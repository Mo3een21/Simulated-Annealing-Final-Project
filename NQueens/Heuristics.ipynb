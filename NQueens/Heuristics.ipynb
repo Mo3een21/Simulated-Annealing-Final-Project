{
 "cells": [
  {
   "cell_type": "markdown",
   "id": "c8843e32",
   "metadata": {},
   "source": [
    "## Calculates the number of conflicts between queens on the board"
   ]
  },
  {
   "cell_type": "code",
   "execution_count": null,
   "id": "3439d918",
   "metadata": {},
   "outputs": [],
   "source": [
    "def calculate_conflicts(board):\n",
    "    # change the function to be O(n) instead of O(n^2) using a dictionary\n",
    "    \"\"\"Calculates the number of conflicts between queens on the board.\"\"\"\n",
    "    n = len(board)\n",
    "    conflicts = 0\n",
    "    for i in range(n):\n",
    "        for j in range(i + 1, n):\n",
    "            if board[i] == board[j] or abs(board[i] - board[j]) == abs(i - j):\n",
    "                #add condition to check if the queens are in the same diagonal ****\n",
    "                conflicts += 1\n",
    "    return conflicts"
   ]
  },
  {
   "cell_type": "markdown",
   "id": "1771c78b",
   "metadata": {},
   "source": [
    "## Improving heuristics calculation"
   ]
  },
  {
   "cell_type": "code",
   "execution_count": null,
   "id": "c339368f",
   "metadata": {},
   "outputs": [],
   "source": [
    "import numpy as np\n",
    "def init_board(self):\n",
    "        \"\"\"Initialize the board by placing a random column for each row,\n",
    "        and update conflict counters accordingly.\"\"\"\n",
    "        self.board = np.random.randint(0, self.n, size=self.n)\n",
    "        self.conflicts_col.fill(0)\n",
    "        self.conflicts_diag_plus.fill(0)\n",
    "        self.conflicts_diag_minus.fill(0)\n",
    "        \n",
    "        for r in range(self.n):\n",
    "            c = self.board[r]\n",
    "            self.conflicts_col[c] += 1\n",
    "            self.conflicts_diag_plus[self.diag_plus_index(r, c)] += 1\n",
    "            self.conflicts_diag_minus[self.diag_minus_index(r, c)] += 1\n",
    "            \n",
    "        self.phi = self.compute_phi()\n",
    "    \n",
    "def compute_phi(self):\n",
    "        \"\"\"Compute the overall potential function value from scratch.\n",
    "        For each line, the feature is max(0, count-1), multiplied by its weight.\"\"\"\n",
    "        phi = 0.0\n",
    "        # Columns\n",
    "        for j in range(self.n):\n",
    "            f_val = max(0, self.conflicts_col[j] - 1)\n",
    "            phi += self.weights_col[j] * f_val\n",
    "        # Positive-slope diagonals\n",
    "        for idx in range(2*self.n - 1):\n",
    "            f_val = max(0, self.conflicts_diag_plus[idx] - 1)\n",
    "            phi += self.weights_diag_plus[idx] * f_val\n",
    "        # Negative-slope diagonals\n",
    "        for idx in range(2*self.n - 1):\n",
    "            f_val = max(0, self.conflicts_diag_minus[idx] - 1)\n",
    "            phi += self.weights_diag_minus[idx] * f_val\n",
    "        return phi"
   ]
  }
 ],
 "metadata": {
  "language_info": {
   "name": "python"
  }
 },
 "nbformat": 4,
 "nbformat_minor": 5
}
