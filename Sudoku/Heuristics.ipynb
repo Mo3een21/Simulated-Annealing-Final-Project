{
 "cells": [
  {
   "cell_type": "markdown",
   "id": "1be59f2e",
   "metadata": {},
   "source": [
    "## 1) conflicts"
   ]
  },
  {
   "cell_type": "code",
   "execution_count": 1,
   "id": "47f1f1cf",
   "metadata": {},
   "outputs": [],
   "source": [
    "def _calculate_heuristic(self):\n",
    "    \n",
    "    row_conflicts = sum(len(row) - len(set(row)) for row in self.board)\n",
    "    col_conflicts = sum(len(col) - len(set(col)) for col in zip(*self.board))\n",
    "    block_conflicts = 0\n",
    "    for i in range(0, 9, 3):\n",
    "        for j in range(0, 9, 3):\n",
    "            block = [self.board[r][c] for r in range(i, i+3) for c in range(j, j+3)]\n",
    "            block_conflicts += len(block) - len(set(block))\n",
    "    self.phi = row_conflicts + col_conflicts + block_conflicts"
   ]
  },
  {
   "cell_type": "markdown",
   "id": "187202aa",
   "metadata": {},
   "source": [
    "## 2) cubic penalty"
   ]
  },
  {
   "cell_type": "code",
   "execution_count": 2,
   "id": "9a5f96dc",
   "metadata": {},
   "outputs": [],
   "source": [
    "def _calculate_heuristic(self):\n",
    "    \"\"\"Calculate total conflicts using cubic penalty\"\"\"\n",
    "    total = 0\n",
    "    for counter in self.row_counts + self.col_counts:\n",
    "        for count in counter.values():\n",
    "            total += count ** 3\n",
    "    return total"
   ]
  },
  {
   "cell_type": "markdown",
   "id": "7c3c7bc2",
   "metadata": {},
   "source": [
    "## 3) Hybrid potential: pair conflicts + neighbor penalties"
   ]
  },
  {
   "cell_type": "code",
   "execution_count": 3,
   "id": "572dc863",
   "metadata": {},
   "outputs": [],
   "source": [
    "def _calculate_heuristic(self):\n",
    "        \"\"\"Hybrid potential: pair conflicts + neighbor penalties\"\"\"\n",
    "        pair_conflicts = sum(\n",
    "            c * (c - 1) // 2 \n",
    "            for counter in self.row_counts + self.col_counts \n",
    "            for c in counter.values()\n",
    "        )\n",
    "        return pair_conflicts + sum(self.neighbor_counts.values())\n",
    "\n",
    "def _update_neighbors(self, i, j, num, delta):\n",
    "    \"\"\"Update neighbor conflict counts for a cell\"\"\"\n",
    "    for dx, dy in [(-1,0), (1,0), (0,-1), (0,1)]:\n",
    "        x, y = i + dx, j + dy\n",
    "        if 0 <= x < 9 and 0 <= y < 9:\n",
    "            if self.board[x][y] == num:\n",
    "                key = tuple(sorted([(i,j), (x,y)]))\n",
    "                self.neighbor_counts[key] += delta"
   ]
  }
 ],
 "metadata": {
  "kernelspec": {
   "display_name": "Python 3",
   "language": "python",
   "name": "python3"
  },
  "language_info": {
   "codemirror_mode": {
    "name": "ipython",
    "version": 3
   },
   "file_extension": ".py",
   "mimetype": "text/x-python",
   "name": "python",
   "nbconvert_exporter": "python",
   "pygments_lexer": "ipython3",
   "version": "3.11.9"
  }
 },
 "nbformat": 4,
 "nbformat_minor": 5
}
