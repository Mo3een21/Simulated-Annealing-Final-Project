{
 "cells": [
  {
   "cell_type": "markdown",
   "id": "5f964485",
   "metadata": {},
   "source": [
    "## Manhattan Alone\n"
   ]
  },
  {
   "cell_type": "code",
   "execution_count": null,
   "id": "72b89576",
   "metadata": {},
   "outputs": [],
   "source": [
    "def _manhattan(self):\n",
    "        \"\"\" Manhattan distance heuristic\"\"\"\n",
    "        total = 0\n",
    "        for i in range(16):\n",
    "            tile = self.board[i]\n",
    "            if tile == 0:\n",
    "                continue\n",
    "            goal_row, goal_col = (tile - 1) // 4, (tile - 1) % 4\n",
    "            row, col = i // 4, i % 4\n",
    "            total += abs(row - goal_row) + abs(col - goal_col)\n",
    "        return total"
   ]
  },
  {
   "cell_type": "markdown",
   "id": "639a7b61",
   "metadata": {},
   "source": [
    "## Linear Alone"
   ]
  },
  {
   "cell_type": "code",
   "execution_count": null,
   "id": "311209aa",
   "metadata": {},
   "outputs": [],
   "source": [
    "def _linear_conflict(self):\n",
    "        \"\"\" Linear Conflict heuristic\"\"\"\n",
    "        conflicts = 0\n",
    "        # Row conflicts\n",
    "        for row in range(4):\n",
    "            tiles = []\n",
    "            for col in range(4):\n",
    "                i = row * 4 + col\n",
    "                tile = self.board[i]\n",
    "                if tile == 0:\n",
    "                    continue\n",
    "                target_row = (tile - 1) // 4\n",
    "                if target_row == row:\n",
    "                    for t in tiles:\n",
    "                        if (t - 1) // 4 == row and tile < t:\n",
    "                            conflicts += 2\n",
    "                    tiles.append(tile)\n",
    "        \n",
    "        # Column conflicts\n",
    "        for col in range(4):\n",
    "            tiles = []\n",
    "            for row in range(4):\n",
    "                i = row * 4 + col\n",
    "                tile = self.board[i]\n",
    "                if tile == 0:\n",
    "                    continue\n",
    "                target_col = (tile - 1) % 4\n",
    "                if target_col == col:\n",
    "                    for t in tiles:\n",
    "                        if (t - 1) % 4 == col and tile < t:\n",
    "                            conflicts += 2\n",
    "                    tiles.append(tile)\n",
    "        return conflicts"
   ]
  },
  {
   "cell_type": "markdown",
   "id": "10da32a4",
   "metadata": {},
   "source": [
    "## Combined (Manhattan + Linear Conflict)"
   ]
  },
  {
   "cell_type": "code",
   "execution_count": 3,
   "id": "c7f3957f",
   "metadata": {},
   "outputs": [],
   "source": [
    "def _manhattan_linear_conflict(self):\n",
    "        manhattan = 0\n",
    "        conflicts = 0\n",
    "        \n",
    "        # Row conflicts\n",
    "        for row in range(4):\n",
    "            tiles = []\n",
    "            for col in range(4):\n",
    "                i = row * 4 + col\n",
    "                tile = self.board[i]\n",
    "                if tile == 0: continue\n",
    "                tiles.append(tile)\n",
    "                target_row, target_col = (tile - 1) // 4, (tile - 1) % 4\n",
    "                manhattan += abs(row - target_row) + abs(col - target_col)\n",
    "                \n",
    "                if target_row == row:\n",
    "                    for t in tiles:\n",
    "                        if t != tile and (t - 1) // 4 == row and tile < t:\n",
    "                            conflicts += 2\n",
    "        \n",
    "        # Column conflicts\n",
    "        for col in range(4):\n",
    "            tiles = []\n",
    "            for row in range(4):\n",
    "                i = row * 4 + col\n",
    "                tile = self.board[i]\n",
    "                if tile == 0: continue\n",
    "                target_row, target_col = (tile - 1) // 4, (tile - 1) % 4\n",
    "                if target_col == col:\n",
    "                    for t in tiles:\n",
    "                        if t != tile and (t - 1) % 4 == col and tile < t:\n",
    "                            conflicts += 2\n",
    "                tiles.append(tile)\n",
    "        \n",
    "        return manhattan + conflicts"
   ]
  }
 ],
 "metadata": {
  "kernelspec": {
   "display_name": "Python 3",
   "language": "python",
   "name": "python3"
  },
  "language_info": {
   "codemirror_mode": {
    "name": "ipython",
    "version": 3
   },
   "file_extension": ".py",
   "mimetype": "text/x-python",
   "name": "python",
   "nbconvert_exporter": "python",
   "pygments_lexer": "ipython3",
   "version": "3.11.9"
  }
 },
 "nbformat": 4,
 "nbformat_minor": 5
}
