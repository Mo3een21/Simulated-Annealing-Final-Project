{
 "cells": [
  {
   "cell_type": "markdown",
   "metadata": {},
   "source": [
    "* Initializations and Conflict Checking"
   ]
  },
  {
   "cell_type": "code",
   "execution_count": 4,
   "metadata": {},
   "outputs": [
    {
     "name": "stdout",
     "output_type": "stream",
     "text": [
      "No solution found after 1000 steps.[4, 8, 3, 9, 7, 2, 5, 1, 6, 11, 0, 4] Final board:\n",
      "x x x x Q x x x x x x x\n",
      "x x x x x x x x Q x x x\n",
      "x x x Q x x x x x x x x\n",
      "x x x x x x x x x Q x x\n",
      "x x x x x x x Q x x x x\n",
      "x x Q x x x x x x x x x\n",
      "x x x x x Q x x x x x x\n",
      "x Q x x x x x x x x x x\n",
      "x x x x x x Q x x x x x\n",
      "x x x x x x x x x x x Q\n",
      "Q x x x x x x x x x x x\n",
      "x x x x Q x x x x x x x\n",
      "\n"
     ]
    }
   ],
   "source": [
    "import random\n",
    "import math\n",
    "\n",
    "def initialize_board(n):\n",
    "    \"\"\"Creates an initial board where each queen is placed in a random column in its row.\"\"\"\n",
    "    return [random.randint(0, n - 1) for _ in range(n)]\n",
    "\n",
    "def calculate_conflicts(board):\n",
    "    # change the function to be O(n) instead of O(n^2) using a dictionary\n",
    "    \"\"\"Calculates the number of conflicts between queens on the board.\"\"\"\n",
    "    n = len(board)\n",
    "    conflicts = 0\n",
    "    for i in range(n):\n",
    "        for j in range(i + 1, n):\n",
    "            if board[i] == board[j] or abs(board[i] - board[j]) == abs(i - j):\n",
    "                #add condition to check if the queens are in the same diagonal ****\n",
    "                conflicts += 1\n",
    "    return conflicts\n",
    "\n",
    "def get_neighbors(board):\n",
    "    \"\"\"Generates all possible neighbor boards.\"\"\"\n",
    "    n = len(board)\n",
    "    neighbors = []\n",
    "    for row in range(n):\n",
    "        for col in range(n):\n",
    "            if col != board[row]:\n",
    "                neighbor = board[:]\n",
    "                neighbor[row] = col\n",
    "                neighbors.append(neighbor)\n",
    "    return neighbors\n",
    "\n",
    "def print_board(board):\n",
    "    \"\"\"Prints the board in a readable chessboard format.\"\"\"\n",
    "    n = len(board)\n",
    "    for row in range(n):\n",
    "        line = ['Q' if col == board[row] else 'x' for col in range(n)]\n",
    "        print(' '.join(line))\n",
    "    print()  # Add a blank line for better readability\n",
    "\n",
    "def hill_climbing_simulated_annealing(n, max_steps, initial_temperature, cooling_rate):\n",
    "    \"\"\"Solves the N-Queens problem using Hill Climbing combined with Simulated Annealing.\"\"\"\n",
    "    current_board = initialize_board(n)\n",
    "    current_conflicts = calculate_conflicts(current_board)\n",
    "    temperature = initial_temperature\n",
    "\n",
    "    for step in range(max_steps):\n",
    "        if current_conflicts == 0:\n",
    "            return current_board, step  # A valid board was found\n",
    "\n",
    "        # Get neighbors\n",
    "        neighbors = get_neighbors(current_board)\n",
    "        next_board = random.choice(neighbors)\n",
    "        next_conflicts = calculate_conflicts(next_board)\n",
    "\n",
    "        # Calculate the probability of moving to the next state\n",
    "        delta = next_conflicts - current_conflicts\n",
    "        if delta < 0  or random.random() < math.exp(-delta / temperature):\n",
    "            current_board = next_board\n",
    "            current_conflicts = next_conflicts\n",
    "\n",
    "        # Cool down the temperature\n",
    "        temperature *= cooling_rate\n",
    "\n",
    "    return current_board, max_steps  # If no solution was found\n",
    "\n",
    "# Define parameters and run the algorithm\n",
    "n =12  # Board size (e.g., 8 queens)\n",
    "max_steps = 1000  # Maximum number of steps\n",
    "initial_temperature = 100  # Initial temperature\n",
    "cooling_rate = 0.99  # Cooling rate\n",
    "\n",
    "solution, steps = hill_climbing_simulated_annealing(n, max_steps, initial_temperature, cooling_rate)\n",
    "if calculate_conflicts(solution) == 0:\n",
    "    print(f\"Solution found after {steps} steps: {solution}\")\n",
    "    print_board(solution)  # Print the whole board\n",
    "else:\n",
    "    print(f\"No solution found after {max_steps} steps.{solution} Final board:\")\n",
    "    print_board(solution)  # Print the final board"
   ]
  },
  {
   "cell_type": "markdown",
   "metadata": {},
   "source": [
    "* Main Algorithm"
   ]
  },
  {
   "cell_type": "code",
   "execution_count": 3,
   "metadata": {},
   "outputs": [],
   "source": []
  },
  {
   "cell_type": "markdown",
   "metadata": {},
   "source": [
    "* Simple Example"
   ]
  },
  {
   "cell_type": "code",
   "execution_count": 18,
   "metadata": {},
   "outputs": [
    {
     "name": "stdout",
     "output_type": "stream",
     "text": [
      "Solution found after 933 steps: [11, 2, 4, 7, 10, 3, 9, 0, 5, 8, 6, 1]\n",
      ". . . . . . . . . . . Q\n",
      ". . Q . . . . . . . . .\n",
      ". . . . Q . . . . . . .\n",
      ". . . . . . . Q . . . .\n",
      ". . . . . . . . . . Q .\n",
      ". . . Q . . . . . . . .\n",
      ". . . . . . . . . Q . .\n",
      "Q . . . . . . . . . . .\n",
      ". . . . . Q . . . . . .\n",
      ". . . . . . . . Q . . .\n",
      ". . . . . . Q . . . . .\n",
      ". Q . . . . . . . . . .\n",
      "\n"
     ]
    }
   ],
   "source": []
  }
 ],
 "metadata": {
  "kernelspec": {
   "display_name": "Python 3",
   "language": "python",
   "name": "python3"
  },
  "language_info": {
   "codemirror_mode": {
    "name": "ipython",
    "version": 3
   },
   "file_extension": ".py",
   "mimetype": "text/x-python",
   "name": "python",
   "nbconvert_exporter": "python",
   "pygments_lexer": "ipython3",
   "version": "3.11.9"
  }
 },
 "nbformat": 4,
 "nbformat_minor": 2
}
